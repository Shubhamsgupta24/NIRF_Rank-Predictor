{
 "cells": [
  {
   "cell_type": "markdown",
   "id": "dd901662-60d2-4aca-a974-a833b62842ef",
   "metadata": {},
   "source": [
    "<h2>I . Importing Libraries</h2>"
   ]
  },
  {
   "cell_type": "code",
   "execution_count": 2,
   "id": "ae06ab3a-f1f2-49ff-976b-ee72c15629d4",
   "metadata": {},
   "outputs": [
    {
     "name": "stderr",
     "output_type": "stream",
     "text": [
      "/home/sgubuntu/.local/lib/python3.10/site-packages/matplotlib/projections/__init__.py:63: UserWarning: Unable to import Axes3D. This may be due to multiple versions of Matplotlib being installed (e.g. as a system package and as a pip package). As a result, the 3D projection is not available.\n",
      "  warnings.warn(\"Unable to import Axes3D. This may be due to multiple versions of \"\n"
     ]
    }
   ],
   "source": [
    "import os\n",
    "import numpy as np\n",
    "import pandas as pd\n",
    "import matplotlib.pyplot as plt"
   ]
  },
  {
   "cell_type": "markdown",
   "id": "ee8c6016-c03f-4a1e-b79f-5e916e845f11",
   "metadata": {},
   "source": [
    "<h2>II . Loading Dataset</h2>"
   ]
  },
  {
   "cell_type": "code",
   "execution_count": 12,
   "id": "7da4a97c-0c6e-4993-bc69-5087522b7207",
   "metadata": {},
   "outputs": [
    {
     "data": {
      "text/plain": [
       "'Dataset/EngineeringRanking_2021.csv'"
      ]
     },
     "execution_count": 12,
     "metadata": {},
     "output_type": "execute_result"
    }
   ],
   "source": [
    "os.path.join('Dataset','EngineeringRanking_2021.csv')"
   ]
  },
  {
   "cell_type": "code",
   "execution_count": 13,
   "id": "f0c0bd5d-e9bf-4692-b315-04f73ac1f6e6",
   "metadata": {},
   "outputs": [],
   "source": [
    "df = pd.read_csv(os.path.join('Dataset','EngineeringRanking_2021.csv'))"
   ]
  },
  {
   "cell_type": "code",
   "execution_count": 14,
   "id": "02a0dcac-2bce-4794-8377-3a9b3ac3bc74",
   "metadata": {},
   "outputs": [
    {
     "data": {
      "text/html": [
       "<div>\n",
       "<style scoped>\n",
       "    .dataframe tbody tr th:only-of-type {\n",
       "        vertical-align: middle;\n",
       "    }\n",
       "\n",
       "    .dataframe tbody tr th {\n",
       "        vertical-align: top;\n",
       "    }\n",
       "\n",
       "    .dataframe thead th {\n",
       "        text-align: right;\n",
       "    }\n",
       "</style>\n",
       "<table border=\"1\" class=\"dataframe\">\n",
       "  <thead>\n",
       "    <tr style=\"text-align: right;\">\n",
       "      <th></th>\n",
       "      <th>Institute Id</th>\n",
       "      <th>Institute Name</th>\n",
       "      <th>City</th>\n",
       "      <th>State</th>\n",
       "      <th>TLR</th>\n",
       "      <th>RPC</th>\n",
       "      <th>GO</th>\n",
       "      <th>OI</th>\n",
       "      <th>Perception</th>\n",
       "      <th>Score</th>\n",
       "      <th>Rank</th>\n",
       "    </tr>\n",
       "  </thead>\n",
       "  <tbody>\n",
       "    <tr>\n",
       "      <th>0</th>\n",
       "      <td>IR-E-U-0456</td>\n",
       "      <td>Indian Institute of Technology Madras</td>\n",
       "      <td>Chennai</td>\n",
       "      <td>Tamil Nadu</td>\n",
       "      <td>95.47</td>\n",
       "      <td>96.43</td>\n",
       "      <td>81.92</td>\n",
       "      <td>62.44</td>\n",
       "      <td>100.00</td>\n",
       "      <td>90.19</td>\n",
       "      <td>1</td>\n",
       "    </tr>\n",
       "    <tr>\n",
       "      <th>1</th>\n",
       "      <td>IR-E-I-1074</td>\n",
       "      <td>Indian Institute of Technology Delhi</td>\n",
       "      <td>New Delhi</td>\n",
       "      <td>Delhi</td>\n",
       "      <td>91.76</td>\n",
       "      <td>95.82</td>\n",
       "      <td>80.97</td>\n",
       "      <td>66.39</td>\n",
       "      <td>98.63</td>\n",
       "      <td>88.96</td>\n",
       "      <td>2</td>\n",
       "    </tr>\n",
       "    <tr>\n",
       "      <th>2</th>\n",
       "      <td>IR-E-U-0306</td>\n",
       "      <td>Indian Institute of Technology Bombay</td>\n",
       "      <td>Mumbai</td>\n",
       "      <td>Maharashtra</td>\n",
       "      <td>89.32</td>\n",
       "      <td>92.56</td>\n",
       "      <td>79.71</td>\n",
       "      <td>53.68</td>\n",
       "      <td>92.88</td>\n",
       "      <td>85.16</td>\n",
       "      <td>3</td>\n",
       "    </tr>\n",
       "    <tr>\n",
       "      <th>3</th>\n",
       "      <td>IR-E-I-1075</td>\n",
       "      <td>Indian Institute of Technology Kanpur</td>\n",
       "      <td>Kanpur</td>\n",
       "      <td>Uttar Pradesh</td>\n",
       "      <td>86.71</td>\n",
       "      <td>83.13</td>\n",
       "      <td>89.79</td>\n",
       "      <td>55.96</td>\n",
       "      <td>87.05</td>\n",
       "      <td>83.22</td>\n",
       "      <td>4</td>\n",
       "    </tr>\n",
       "    <tr>\n",
       "      <th>4</th>\n",
       "      <td>IR-E-U-0573</td>\n",
       "      <td>Indian Institute of Technology Kharagpur</td>\n",
       "      <td>Kharagpur</td>\n",
       "      <td>West Bengal</td>\n",
       "      <td>80.51</td>\n",
       "      <td>88.59</td>\n",
       "      <td>83.01</td>\n",
       "      <td>58.46</td>\n",
       "      <td>88.50</td>\n",
       "      <td>82.03</td>\n",
       "      <td>5</td>\n",
       "    </tr>\n",
       "    <tr>\n",
       "      <th>...</th>\n",
       "      <td>...</td>\n",
       "      <td>...</td>\n",
       "      <td>...</td>\n",
       "      <td>...</td>\n",
       "      <td>...</td>\n",
       "      <td>...</td>\n",
       "      <td>...</td>\n",
       "      <td>...</td>\n",
       "      <td>...</td>\n",
       "      <td>...</td>\n",
       "      <td>...</td>\n",
       "    </tr>\n",
       "    <tr>\n",
       "      <th>195</th>\n",
       "      <td>IR-E-C-1438</td>\n",
       "      <td>The National Institute of Engineering</td>\n",
       "      <td>Mysore</td>\n",
       "      <td>Karnataka</td>\n",
       "      <td>53.79</td>\n",
       "      <td>2.33</td>\n",
       "      <td>51.03</td>\n",
       "      <td>50.48</td>\n",
       "      <td>4.23</td>\n",
       "      <td>32.52</td>\n",
       "      <td>196</td>\n",
       "    </tr>\n",
       "    <tr>\n",
       "      <th>196</th>\n",
       "      <td>IR-E-C-33584</td>\n",
       "      <td>K. J. Somaiya College of Engineering</td>\n",
       "      <td>Mumbai</td>\n",
       "      <td>Maharashtra</td>\n",
       "      <td>52.22</td>\n",
       "      <td>3.33</td>\n",
       "      <td>58.94</td>\n",
       "      <td>38.08</td>\n",
       "      <td>2.17</td>\n",
       "      <td>32.48</td>\n",
       "      <td>197</td>\n",
       "    </tr>\n",
       "    <tr>\n",
       "      <th>197</th>\n",
       "      <td>IR-E-C-27400</td>\n",
       "      <td>Kakatiya Institute of Technology &amp; Science</td>\n",
       "      <td>Warangal</td>\n",
       "      <td>Telangana</td>\n",
       "      <td>55.80</td>\n",
       "      <td>1.64</td>\n",
       "      <td>49.13</td>\n",
       "      <td>49.25</td>\n",
       "      <td>4.90</td>\n",
       "      <td>32.48</td>\n",
       "      <td>197</td>\n",
       "    </tr>\n",
       "    <tr>\n",
       "      <th>198</th>\n",
       "      <td>IR-E-C-11015</td>\n",
       "      <td>Walchand College of Engineering</td>\n",
       "      <td>Sangli</td>\n",
       "      <td>Maharashtra</td>\n",
       "      <td>48.25</td>\n",
       "      <td>4.54</td>\n",
       "      <td>56.11</td>\n",
       "      <td>47.93</td>\n",
       "      <td>6.19</td>\n",
       "      <td>32.46</td>\n",
       "      <td>199</td>\n",
       "    </tr>\n",
       "    <tr>\n",
       "      <th>199</th>\n",
       "      <td>IR-E-U-0037</td>\n",
       "      <td>Sri Venkateswara University</td>\n",
       "      <td>Tirupati</td>\n",
       "      <td>Andhra Pradesh</td>\n",
       "      <td>41.76</td>\n",
       "      <td>25.59</td>\n",
       "      <td>37.58</td>\n",
       "      <td>43.31</td>\n",
       "      <td>3.56</td>\n",
       "      <td>32.42</td>\n",
       "      <td>200</td>\n",
       "    </tr>\n",
       "  </tbody>\n",
       "</table>\n",
       "<p>200 rows × 11 columns</p>\n",
       "</div>"
      ],
      "text/plain": [
       "     Institute Id                              Institute Name       City  \\\n",
       "0     IR-E-U-0456       Indian Institute of Technology Madras    Chennai   \n",
       "1     IR-E-I-1074        Indian Institute of Technology Delhi  New Delhi   \n",
       "2     IR-E-U-0306       Indian Institute of Technology Bombay     Mumbai   \n",
       "3     IR-E-I-1075       Indian Institute of Technology Kanpur     Kanpur   \n",
       "4     IR-E-U-0573    Indian Institute of Technology Kharagpur  Kharagpur   \n",
       "..            ...                                         ...        ...   \n",
       "195   IR-E-C-1438       The National Institute of Engineering     Mysore   \n",
       "196  IR-E-C-33584        K. J. Somaiya College of Engineering     Mumbai   \n",
       "197  IR-E-C-27400  Kakatiya Institute of Technology & Science   Warangal   \n",
       "198  IR-E-C-11015             Walchand College of Engineering     Sangli   \n",
       "199   IR-E-U-0037                 Sri Venkateswara University   Tirupati   \n",
       "\n",
       "              State    TLR    RPC     GO     OI  Perception  Score  Rank  \n",
       "0        Tamil Nadu  95.47  96.43  81.92  62.44      100.00  90.19     1  \n",
       "1             Delhi  91.76  95.82  80.97  66.39       98.63  88.96     2  \n",
       "2       Maharashtra  89.32  92.56  79.71  53.68       92.88  85.16     3  \n",
       "3     Uttar Pradesh  86.71  83.13  89.79  55.96       87.05  83.22     4  \n",
       "4       West Bengal  80.51  88.59  83.01  58.46       88.50  82.03     5  \n",
       "..              ...    ...    ...    ...    ...         ...    ...   ...  \n",
       "195       Karnataka  53.79   2.33  51.03  50.48        4.23  32.52   196  \n",
       "196     Maharashtra  52.22   3.33  58.94  38.08        2.17  32.48   197  \n",
       "197       Telangana  55.80   1.64  49.13  49.25        4.90  32.48   197  \n",
       "198     Maharashtra  48.25   4.54  56.11  47.93        6.19  32.46   199  \n",
       "199  Andhra Pradesh  41.76  25.59  37.58  43.31        3.56  32.42   200  \n",
       "\n",
       "[200 rows x 11 columns]"
      ]
     },
     "execution_count": 14,
     "metadata": {},
     "output_type": "execute_result"
    }
   ],
   "source": [
    "df"
   ]
  },
  {
   "cell_type": "markdown",
   "id": "e82e62f4-7504-4f6f-83ec-9b4f297e58e6",
   "metadata": {
    "jp-MarkdownHeadingCollapsed": true
   },
   "source": [
    "<h2>III . Visualising Dataset</h2>"
   ]
  },
  {
   "cell_type": "markdown",
   "id": "72a4858f-0eb6-47ae-8ec2-8ee97514cdeb",
   "metadata": {},
   "source": [
    "<h2>IV . Filtering and Grouping</h2>"
   ]
  },
  {
   "cell_type": "markdown",
   "id": "a5153881-346e-492d-a859-e8bf8fae00df",
   "metadata": {},
   "source": [
    "<h2>V . Data Preprocessing</h2>"
   ]
  },
  {
   "cell_type": "code",
   "execution_count": null,
   "id": "775c21f4-25fd-42a4-95bb-61e1c2cb3d39",
   "metadata": {},
   "outputs": [],
   "source": []
  }
 ],
 "metadata": {
  "kernelspec": {
   "display_name": "Python 3 (ipykernel)",
   "language": "python",
   "name": "python3"
  },
  "language_info": {
   "codemirror_mode": {
    "name": "ipython",
    "version": 3
   },
   "file_extension": ".py",
   "mimetype": "text/x-python",
   "name": "python",
   "nbconvert_exporter": "python",
   "pygments_lexer": "ipython3",
   "version": "3.10.12"
  }
 },
 "nbformat": 4,
 "nbformat_minor": 5
}
